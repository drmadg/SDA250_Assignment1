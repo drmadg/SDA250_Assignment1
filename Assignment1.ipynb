{
 "cells": [
  {
   "cell_type": "markdown",
   "id": "9f4a7d4e-248f-4614-ab84-35eebbfb4bee",
   "metadata": {},
   "source": [
    "# Assignment 1 - NLTK and corpus functions"
   ]
  },
  {
   "cell_type": "markdown",
   "id": "7ee5c74e-1b19-4d18-85d2-c3dad109e8aa",
   "metadata": {},
   "source": [
    "### Subcorpus for Recipe"
   ]
  },
  {
   "cell_type": "code",
   "execution_count": 221,
   "id": "dbeb02b0-a04c-48ed-868c-742cd40a9996",
   "metadata": {},
   "outputs": [],
   "source": [
    "from nltk.corpus import PlaintextCorpusReader\n",
    "corpus_root = \"./data\""
   ]
  },
  {
   "cell_type": "code",
   "execution_count": 3,
   "id": "7ae5cb44-30ea-4ea7-92bc-0143d17fdbaa",
   "metadata": {},
   "outputs": [],
   "source": [
    "reviews = PlaintextCorpusReader(corpus_root, '.*')\n",
    "recipe_words = reviews.words('recipe.txt')"
   ]
  },
  {
   "cell_type": "markdown",
   "id": "02d281de-490b-42fb-841b-c63b8818f217",
   "metadata": {},
   "source": [
    "### Subcorpus for Play Scripts"
   ]
  },
  {
   "cell_type": "code",
   "execution_count": 123,
   "id": "5c47c573-bf97-4b92-972e-2557d15915b2",
   "metadata": {},
   "outputs": [],
   "source": [
    "reviews = PlaintextCorpusReader(corpus_root, '.*')\n",
    "playWords = reviews.words('play.txt')"
   ]
  },
  {
   "cell_type": "markdown",
   "id": "274505b6-819f-4cde-9085-b44bd22ac49d",
   "metadata": {},
   "source": [
    "#### 1. The length"
   ]
  },
  {
   "cell_type": "code",
   "execution_count": 34,
   "id": "42a5f9b8-bca3-482f-a389-93d214b87758",
   "metadata": {},
   "outputs": [
    {
     "name": "stdout",
     "output_type": "stream",
     "text": [
      "Subcorpus: Recipe\n",
      "corpus length: 8747\n"
     ]
    }
   ],
   "source": [
    "recipe_corpus_length = len(recipe_words)\n",
    "print(\"Subcorpus: Recipe\")\n",
    "print(f\"corpus length: {recipe_corpus_length}\")"
   ]
  },
  {
   "cell_type": "code",
   "execution_count": 185,
   "id": "374a4323-66ed-4710-a2d4-c9bea55b8a12",
   "metadata": {},
   "outputs": [
    {
     "name": "stdout",
     "output_type": "stream",
     "text": [
      "Subcorpus: Play Scripts\n",
      "corpus length: 33264\n"
     ]
    }
   ],
   "source": [
    "play_corpus_length = len(playWords)\n",
    "print(\"Subcorpus: Play Scripts\")\n",
    "print(\"corpus length:\", play_corpus_length )"
   ]
  },
  {
   "cell_type": "markdown",
   "id": "eca43b0e-c96f-4726-93fe-82d704c294f8",
   "metadata": {},
   "source": [
    "#### 2. The lexical diversity"
   ]
  },
  {
   "cell_type": "code",
   "execution_count": 8,
   "id": "1cee32b7-e765-48cf-9ea9-dbb35871359f",
   "metadata": {},
   "outputs": [],
   "source": [
    "def lexical_diversity(text):\n",
    "    wordOnlyText = sorted(w.lower() for w in text)\n",
    "    lowercasedTextSet = sorted(set(w.lower() for w in text if w.isalpha()))\n",
    "    return len(set(lowercasedTextSet)) / len(wordOnlyText)"
   ]
  },
  {
   "cell_type": "code",
   "execution_count": 146,
   "id": "fccb83eb-1b23-465c-9dfc-095ea0994976",
   "metadata": {},
   "outputs": [
    {
     "name": "stdout",
     "output_type": "stream",
     "text": [
      "Subcorpus: Recipe\n",
      "lexical diversity: 0.20829998856750886\n"
     ]
    }
   ],
   "source": [
    "print(\"Subcorpus: Recipe\")\n",
    "print(f\"lexical diversity: {lexical_diversity(recipe_words)}\")"
   ]
  },
  {
   "cell_type": "code",
   "execution_count": 144,
   "id": "2056e22d-54af-41f6-a96b-4273921b62d2",
   "metadata": {},
   "outputs": [
    {
     "name": "stdout",
     "output_type": "stream",
     "text": [
      "Subcorpus: Play Scripts\n",
      "lexical diversity: 0.12788600288600288\n"
     ]
    }
   ],
   "source": [
    "def lexical_diversity(playWords):\n",
    "    return len(set(playWords)) / len(playWords)\n",
    "    \n",
    "print(\"Subcorpus: Play Scripts\")\n",
    "print(\"lexical diversity:\", lexical_diversity(playWords))"
   ]
  },
  {
   "cell_type": "markdown",
   "id": "f41c9be0-a9cb-45f0-aeaa-a404abbff7ea",
   "metadata": {},
   "source": [
    "#### 3. Top 10 most frequent words and their counts"
   ]
  },
  {
   "cell_type": "code",
   "execution_count": 68,
   "id": "a14ec93c-9cc5-4cff-9b24-47097c046b8a",
   "metadata": {},
   "outputs": [],
   "source": [
    "from nltk import FreqDist"
   ]
  },
  {
   "cell_type": "code",
   "execution_count": 116,
   "id": "238c7045-80a5-42e2-82a6-948ea6396fa8",
   "metadata": {},
   "outputs": [
    {
     "name": "stdout",
     "output_type": "stream",
     "text": [
      "Subcorpus: Play Scripts\n",
      "Top 10 most frequent words:\n",
      "and: 720\n",
      "the: 686\n",
      "i: 646\n",
      "to: 539\n",
      "a: 453\n",
      "of: 385\n",
      "my: 355\n",
      "that: 353\n",
      "is: 348\n",
      "romeo: 327\n"
     ]
    }
   ],
   "source": [
    "# I used 4.1 from the textbook to change all the words in the text to lowercase \n",
    "filtered_words = [word.lower() for word in playWords if word.isalpha()]\n",
    "\n",
    "fdist_play = FreqDist(filtered_words)\n",
    "most_common_words = fdist_play.most_common(10)\n",
    "\n",
    "print(\"Subcorpus: Play Scripts\")\n",
    "print(\"Top 10 most frequent words:\")\n",
    "# Using loop and f-string to format the output\n",
    "for word, frequency in most_common_words:\n",
    "    print(f\"{word}: {frequency}\")\n"
   ]
  },
  {
   "cell_type": "markdown",
   "id": "86ecf4f6-2c62-4c8d-9b66-75b3856bf2bc",
   "metadata": {},
   "source": [
    "#### 4. Words that are at least 10 characters long and their counts"
   ]
  },
  {
   "cell_type": "code",
   "execution_count": 158,
   "id": "e45a77c8-4b5f-490b-bf20-9cbeda628491",
   "metadata": {},
   "outputs": [
    {
     "name": "stdout",
     "output_type": "stream",
     "text": [
      "Play Scripts:\n",
      "servingman: 31\n",
      "apothecary: 10\n",
      "servingmen: 7\n",
      "banishment: 6\n",
      "churchyard: 6\n",
      "lamentable: 5\n",
      "slaughtered: 5\n",
      "gentlewoman: 4\n",
      "shakespeare: 3\n",
      "affections: 3\n"
     ]
    }
   ],
   "source": [
    "# Filtering words that are at least 10 characters long and alphabetic (review 4.1)\n",
    "play_long_words = [word.lower() for word in playWords if word.isalpha() and len(word) >= 10]\n",
    "\n",
    "# Creating frequency distribution of the filtered long words\n",
    "fdist_play_long_words = FreqDist(play_long_words)\n",
    "\n",
    "# Getting the counts (frequency distribution)\n",
    "play_long_words_counts = fdist_play_long_words.most_common(10)\n",
    "\n",
    "print(\"Play Scripts:\")\n",
    "for word, frequency in play_long_words_counts:\n",
    "    print(f\"{word}: {frequency}\")"
   ]
  },
  {
   "cell_type": "markdown",
   "id": "481c056c-4f02-420d-ad65-f53e98ca7bd2",
   "metadata": {},
   "source": [
    "#### 5. The longest sentence (type the sentence and give the number of words)"
   ]
  },
  {
   "cell_type": "code",
   "execution_count": null,
   "id": "f7f4bcb1-56f6-47ef-9f01-6b05f3ceb6ae",
   "metadata": {},
   "outputs": [],
   "source": [
    "#review 2.1 still not sure how to do this part"
   ]
  },
  {
   "cell_type": "markdown",
   "id": "90303427-6b6e-4be3-99a5-62564c546e9f",
   "metadata": {},
   "source": [
    "#### 6. A stemmed version of the longest sentence"
   ]
  },
  {
   "cell_type": "code",
   "execution_count": null,
   "id": "4a9e4259-ee1f-4176-941e-360135888c84",
   "metadata": {},
   "outputs": [],
   "source": []
  },
  {
   "cell_type": "markdown",
   "id": "dbb2a701-f75c-4abd-b467-5b63bb448268",
   "metadata": {},
   "source": [
    "#### 7. Overall (not for each subcorpus): A reflection (1 paragraph or so): \n",
    "What do the most frequent words, the longest words, and longest sentence tell you about each\n",
    "of the 3 genres? How do you interpret the lexical diversity?"
   ]
  },
  {
   "cell_type": "code",
   "execution_count": null,
   "id": "896f3fc5-acb4-4024-8eb5-27e2b234a666",
   "metadata": {},
   "outputs": [],
   "source": []
  }
 ],
 "metadata": {
  "kernelspec": {
   "display_name": "Python 3 (ipykernel)",
   "language": "python",
   "name": "python3"
  },
  "language_info": {
   "codemirror_mode": {
    "name": "ipython",
    "version": 3
   },
   "file_extension": ".py",
   "mimetype": "text/x-python",
   "name": "python",
   "nbconvert_exporter": "python",
   "pygments_lexer": "ipython3",
   "version": "3.12.4"
  }
 },
 "nbformat": 4,
 "nbformat_minor": 5
}
